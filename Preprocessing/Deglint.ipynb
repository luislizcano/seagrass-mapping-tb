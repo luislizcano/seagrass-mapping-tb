{
  "nbformat": 4,
  "nbformat_minor": 0,
  "metadata": {
    "kernelspec": {
      "display_name": "Python 3",
      "language": "python",
      "name": "python3"
    },
    "language_info": {
      "codemirror_mode": {
        "name": "ipython",
        "version": 3
      },
      "file_extension": ".py",
      "mimetype": "text/x-python",
      "name": "python",
      "nbconvert_exporter": "python",
      "pygments_lexer": "ipython3",
      "version": "3.9.2"
    },
    "colab": {
      "name": "Deglint.ipynb",
      "provenance": [],
      "include_colab_link": true
    }
  },
  "cells": [
    {
      "cell_type": "markdown",
      "metadata": {
        "id": "view-in-github",
        "colab_type": "text"
      },
      "source": [
        "<a href=\"https://colab.research.google.com/github/luislizcano/seagrass-mapping-tb/blob/main/Preprocessing/Deglint.ipynb\" target=\"_parent\"><img src=\"https://colab.research.google.com/assets/colab-badge.svg\" alt=\"Open In Colab\"/></a>"
      ]
    },
    {
      "cell_type": "markdown",
      "metadata": {
        "id": "Kkc23H-J7mvm"
      },
      "source": [
        "# Obtain NDTI of specific areas of interest to help the imagery preselection for seagrass mapping"
      ]
    },
    {
      "cell_type": "markdown",
      "metadata": {
        "id": "TZEfGRkG7mvp"
      },
      "source": [
        "This script get mean NDTI (Normalized difference turbidity index) values inside a defined area of interest (Tampa Bay Segment) of Sentinel-2 images. The output is exported to Google Drive as csv.\n"
      ]
    },
    {
      "cell_type": "markdown",
      "metadata": {
        "id": "StRlEBwi7mvq"
      },
      "source": [
        "Script by: Luis Lizcano-Sandoval (2021)<br/>\n",
        "College of Marine Sciences, University of South Florida<br/>\n",
        "luislizcanos@usf.edu / lsandoval@sig-gis.com<br/>\n",
        "Updated: 12/26/2024"
      ]
    },
    {
      "cell_type": "markdown",
      "source": [
        "### **Import packages**"
      ],
      "metadata": {
        "id": "oXOFOJTXBzP5"
      }
    },
    {
      "cell_type": "code",
      "metadata": {
        "id": "KxZOkVNh7vzc"
      },
      "source": [
        "## Authenticate your EE account\n",
        "import ee\n",
        "ee.Authenticate()\n",
        "ee.Initialize(project='INSERT-EE-PROJECT-NAME')"
      ],
      "execution_count": 1,
      "outputs": []
    },
    {
      "cell_type": "code",
      "source": [
        "## Clone github repo:\n",
        "!git clone https://github.com/luislizcano/seagrass-mapping-tb.git"
      ],
      "metadata": {
        "id": "ei9eKaBwbgkY"
      },
      "execution_count": null,
      "outputs": []
    },
    {
      "cell_type": "code",
      "source": [
        "## Run this cell to mount your Google Drive\n",
        "import os, sys\n",
        "from google.colab import drive\n",
        "drive.mount('/content/drive')\n",
        "sys.path.insert(0,'/content/seagrass-mapping-tb')\n",
        "sys.path.append('/content/seagrass-mapping-tb/Preprocessing/')"
      ],
      "metadata": {
        "id": "kIUWOiIVbyIA"
      },
      "execution_count": null,
      "outputs": []
    },
    {
      "cell_type": "code",
      "source": [
        "## Verify you loaded the EE module correctly:\n",
        "import functions\n",
        "print('EE version: ',ee.__version__)"
      ],
      "metadata": {
        "colab": {
          "base_uri": "https://localhost:8080/"
        },
        "id": "0mIHHpUOpiD9",
        "outputId": "cbe33df9-f66e-42eb-e6de-3f8e97649b54"
      },
      "execution_count": 3,
      "outputs": [
        {
          "output_type": "stream",
          "name": "stdout",
          "text": [
            "EE version:  1.4.3\n"
          ]
        }
      ]
    },
    {
      "cell_type": "markdown",
      "source": [
        "### **Import collections and data**"
      ],
      "metadata": {
        "id": "CTQxCu4PpidD"
      }
    },
    {
      "cell_type": "code",
      "source": [
        "## Load collection (use level-2; but B10 wont be available)\n",
        "sentinel2 = ee.ImageCollection('COPERNICUS/S2_HARMONIZED')\n",
        "## FAO GAUL: Global Administrative Unit Layers:\n",
        "countries = ee.FeatureCollection(\"FAO/GAUL/2015/level0\")\n",
        "## Tampa Bay segments\n",
        "tb_segments = ee.FeatureCollection(\"users/lizcanosandoval/Seagrass/TBEP_Segments_Adapted\")"
      ],
      "metadata": {
        "id": "jLIovQYrpSr6"
      },
      "execution_count": 4,
      "outputs": []
    },
    {
      "cell_type": "markdown",
      "source": [
        "### **Settings**\n",
        "For Tampa Bay there are six segments (code) defined:\n",
        "* Old Tampa Bay (OTB)\n",
        "* Middle Tampa Bay (MTB)\n",
        "* Lower Tampa Bay (LTB)\n",
        "* Hillsoborugh Bay (HB)\n",
        "* Boca Ciega Bay (BC)\n",
        "* Manatee River + Terra Ceia Bay (MRTC)"
      ],
      "metadata": {
        "id": "oBUiGudSocMd"
      }
    },
    {
      "cell_type": "code",
      "metadata": {
        "id": "HOieAPGS7v3e"
      },
      "source": [
        "## Check and set the following parameters:\n",
        "year = '2023'\n",
        "regionCode = 'MRTC'\n",
        "# tileName = ['17RLL']\n",
        "countryName = 'United States of America'\n",
        "\n",
        "## Some other settings:\n",
        "fileName = 'Sentinel-2_NDTI_'+regionCode+'_'+year\n",
        "## Filter parameters:\n",
        "start_date = year+'-01-01'\n",
        "end_date = year+'-12-31'\n",
        "cloud_percent = 40"
      ],
      "execution_count": 5,
      "outputs": []
    },
    {
      "cell_type": "code",
      "metadata": {
        "id": "3alEOlxc70Ga"
      },
      "source": [
        "## Select country\n",
        "## To select country by GAUL see: http://www.fao.org/countryprofiles/iso3list/en/\n",
        "land = countries.filter(ee.Filter.eq('ADM0_NAME',countryName))\n",
        "\n",
        "## Select segment\n",
        "segment = tb_segments.filter(ee.Filter.stringContains('name_code',regionCode))\n",
        "segmentName = segment.aggregate_array('name_code')\n",
        "print(segmentName.get(0).getInfo()+' - '+countryName+' ('+year+')')"
      ],
      "execution_count": null,
      "outputs": []
    },
    {
      "cell_type": "markdown",
      "metadata": {
        "id": "oXQkPAN37mvr"
      },
      "source": [
        "**Filter Sentinel-2 collection:**"
      ]
    },
    {
      "cell_type": "code",
      "source": [
        "## Load collection (use level-2; but B10 wont be available)\n",
        "## Note: Images can be filtered either by bounds or tiles.\n",
        "collection = sentinel2.filterDate(start_date, end_date)\\\n",
        "              .filter(ee.Filter.lt('CLOUDY_PIXEL_PERCENTAGE', cloud_percent))\\\n",
        "              .filterBounds(segment)\n",
        "              # .filter(ee.Filter.inList('MGRS_TILE',tileName)).sort('MGRS_TILE')\n",
        "\n",
        "tile_list = ee.List(collection.aggregate_array('MGRS_TILE')).distinct().sort()\n",
        "print('Images Found:',collection.size().getInfo())\n",
        "print('Tiles Found:',tile_list.getInfo())"
      ],
      "metadata": {
        "id": "El3VU4ZwgYlp"
      },
      "execution_count": null,
      "outputs": []
    },
    {
      "cell_type": "markdown",
      "metadata": {
        "id": "DHQKbp-C7mvv"
      },
      "source": [
        "**Run functions:**"
      ]
    },
    {
      "cell_type": "code",
      "metadata": {
        "id": "gcUX9hBr7mvv"
      },
      "source": [
        "## Rescale collection\n",
        "scaleColl = collection.map(functions.rescale)\n",
        "\n",
        "bands = ['B5','NDTI']\n",
        "newName = ['704','NDTI']\n",
        "\n",
        "## Apply cloud and land mask.\n",
        "# maskedColl = scaleColl.map(functions.maskLand(land)) # Mask Land\n",
        "maskedColl = functions.maskLand(scaleColl, land)\n",
        "maskedColl = functions.CloudScore6S(maskedColl, 5) # Mask Clouds (Threshold value = 5)\n",
        "maskedColl = functions.clipRegion(maskedColl, segment) # Mask by Regions\n",
        "maskedColl = maskedColl.map(functions.NDTI) # Get NDTI\n",
        "maskedColl = maskedColl.select(bands, newName) # Select bands and rename\n",
        "\n",
        "## Get the mean and std values from bands of interest.\n",
        "statsColl = functions.getStats(maskedColl, segment)\n",
        "\n",
        "## Count the number of valid pixels.\n",
        "countColl = functions.countPixels(maskedColl, segment)\n",
        "\n",
        "## Use an equals filter to specify how the collections match.\n",
        "toyFilter = ee.Filter.equals(**{\n",
        "  'leftField': 'system:index',\n",
        "  'rightField': 'system:index'})\n",
        "## Define the join.\n",
        "innerJoin = ee.Join.inner('stats','counts')\n",
        "## Apply the join.\n",
        "toyJoin = innerJoin.apply(statsColl, countColl, toyFilter)\n",
        "\n",
        "## Final collection with all the properties together by feature\n",
        "endColl = toyJoin.map(functions.cleanJoin)"
      ],
      "execution_count": null,
      "outputs": []
    },
    {
      "cell_type": "markdown",
      "metadata": {
        "id": "bUZ-UcKK7mvu"
      },
      "source": [
        "**Extract properties:**"
      ]
    },
    {
      "cell_type": "code",
      "metadata": {
        "id": "WB6mRF9s7mvv"
      },
      "source": [
        "## Extract a list of property values from the 'endColl' collection, individually.\n",
        "system_id = ee.List(endColl.aggregate_array('system:index'))\\\n",
        "                .map(lambda x: ee.String(x).slice(0,38))\n",
        "tile_id = ee.List(endColl.aggregate_array('MGRS_TILE'))\n",
        "time_id = ee.List(endColl.aggregate_array('GENERATION_TIME')\\\n",
        "              .map(lambda x: ee.Date(ee.Number(x)).format('yyyy-MM-dd')))\n",
        "zenith = ee.List(endColl.aggregate_array('MEAN_SOLAR_ZENITH_ANGLE'))\n",
        "azimuth = ee.List(endColl.aggregate_array('MEAN_SOLAR_AZIMUTH_ANGLE'))\n",
        "spacecraft = ee.List(endColl.aggregate_array('SPACECRAFT_NAME'))\n",
        "valid_pixels = ee.List(endColl.aggregate_array('Valid_Pixels'))\n",
        "cloud_cover = ee.List(endColl.aggregate_array('CLOUDY_PIXEL_PERCENTAGE'))\n",
        "get704_mean = ee.List(endColl.aggregate_array('704_mean'))\n",
        "get704_stdv = ee.List(endColl.aggregate_array('704_stdDev'))\n",
        "getNdti_mean = ee.List(endColl.aggregate_array('NDTI_mean'))\n",
        "getNdti_stdv = ee.List(endColl.aggregate_array('NDTI_stdDev'))"
      ],
      "execution_count": null,
      "outputs": []
    },
    {
      "cell_type": "markdown",
      "source": [
        "**Pair lists and get final table**\n",
        "\n",
        "Hereinafter, the computation becomes more complex and the outputs do not print in the console (ERROR: USER MEMORY LIMIT EXCEEDED), but the process will continue to export tables."
      ],
      "metadata": {
        "id": "g-lkKff1h540"
      }
    },
    {
      "cell_type": "code",
      "source": [
        "## Pair lists\n",
        "pairedLists = ee.List.sequence(0,get704_mean.length().subtract(1),1).map(lambda i:\\\n",
        "    [system_id.get(i),tile_id.get(i),time_id.get(i),zenith.get(i),azimuth.get(i),\\\n",
        "     spacecraft.get(i),valid_pixels.get(i),cloud_cover.get(i),get704_mean.get(i),\\\n",
        "     get704_stdv.get(i),getNdti_mean.get(i),getNdti_stdv.get(i)])\n",
        "\n",
        "## Convert the list of properties to a feature\n",
        "## that will be set as a new column.\n",
        "def tupleToFeature(feat):\n",
        "  tuple = ee.List(feat)\n",
        "\n",
        "  return ee.Feature(None, {\\\n",
        "    'image_id': tuple.get(0),\\\n",
        "    'tile_id': tuple.get(1),\\\n",
        "    'time_id': tuple.get(2),\\\n",
        "    'zenith': tuple.get(3),\\\n",
        "    'azimuth': tuple.get(4),\\\n",
        "    'spacecraft': tuple.get(5),\\\n",
        "    'valid_pixels': tuple.get(6),\\\n",
        "    'cloud_cover': tuple.get(7),\\\n",
        "    'mean_704': tuple.get(8),\\\n",
        "    'stdv_704': tuple.get(9),\\\n",
        "    'mean_ndti': tuple.get(10),\\\n",
        "    'stdv_ndti': tuple.get(11)})\n",
        "\n",
        "## Run the function to pair lists\n",
        "endList = pairedLists.map(tupleToFeature)\n",
        "#print('endList',endList);\n",
        "\n",
        "## Convert list of features to a feature collection. Required to export it as .csv\n",
        "endTable = ee.FeatureCollection(endList)"
      ],
      "metadata": {
        "id": "Sc9Y1zthh3cW"
      },
      "execution_count": 15,
      "outputs": []
    },
    {
      "cell_type": "markdown",
      "metadata": {
        "id": "YgI9hnsW7mvw"
      },
      "source": [
        "**Export table to Drive:**"
      ]
    },
    {
      "cell_type": "code",
      "source": [
        "task = ee.batch.Export.table.toDrive(\n",
        "  collection= endTable,\n",
        "  folder= 'NDTI', #Set folder name\n",
        "  description= fileName, #Set file name\n",
        "  fileFormat= 'CSV' #Set file format\n",
        ")\n",
        "task.start()"
      ],
      "metadata": {
        "id": "nLHR95PHh5Q4"
      },
      "execution_count": 17,
      "outputs": []
    }
  ]
}