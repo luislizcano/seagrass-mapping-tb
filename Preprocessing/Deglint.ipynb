{
  "nbformat": 4,
  "nbformat_minor": 0,
  "metadata": {
    "kernelspec": {
      "display_name": "Python 3",
      "language": "python",
      "name": "python3"
    },
    "language_info": {
      "codemirror_mode": {
        "name": "ipython",
        "version": 3
      },
      "file_extension": ".py",
      "mimetype": "text/x-python",
      "name": "python",
      "nbconvert_exporter": "python",
      "pygments_lexer": "ipython3",
      "version": "3.9.2"
    },
    "colab": {
      "name": "Deglint.ipynb",
      "provenance": [],
      "include_colab_link": true
    }
  },
  "cells": [
    {
      "cell_type": "markdown",
      "metadata": {
        "id": "view-in-github",
        "colab_type": "text"
      },
      "source": [
        "<a href=\"https://colab.research.google.com/github/luislizcano/seagrass-mapping-tb/blob/main/Preprocessing/Deglint.ipynb\" target=\"_parent\"><img src=\"https://colab.research.google.com/assets/colab-badge.svg\" alt=\"Open In Colab\"/></a>"
      ]
    },
    {
      "cell_type": "markdown",
      "metadata": {
        "id": "Kkc23H-J7mvm"
      },
      "source": [
        "# Deglinting"
      ]
    },
    {
      "cell_type": "markdown",
      "metadata": {
        "id": "TZEfGRkG7mvp"
      },
      "source": [
        "This script apply a simple correction of sun glint on water surface of Sentinel-2 images. The output is exported to the EE Assets as an image.\n"
      ]
    },
    {
      "cell_type": "markdown",
      "metadata": {
        "id": "StRlEBwi7mvq"
      },
      "source": [
        "Script by: Luis Lizcano-Sandoval (2021)<br/>\n",
        "College of Marine Sciences, University of South Florida<br/>\n",
        "luislizcanos@usf.edu / lsandoval@sig-gis.com<br/>\n",
        "Updated: 12/26/2024\n",
        "\n",
        "**Cite as:** *Lizcano-Sandoval, L.; Beck, M.W.; Scolaro, S.; Sherwood, E.T.; Muller-Karger, F. (2025) Cloud-Based Satellite Remote Sensing for Enhancing Seagrass Monitoring and Ecosystem Management (In preparation)*"
      ]
    },
    {
      "cell_type": "markdown",
      "source": [
        "### **Import packages**"
      ],
      "metadata": {
        "id": "oXOFOJTXBzP5"
      }
    },
    {
      "cell_type": "code",
      "metadata": {
        "id": "KxZOkVNh7vzc",
        "colab": {
          "base_uri": "https://localhost:8080/",
          "height": 17
        },
        "outputId": "1afee534-9d81-429a-bd01-2960f1631a53"
      },
      "source": [
        "## Authenticate your EE account\n",
        "import ee\n",
        "ee.Authenticate()\n",
        "ee.Initialize(project='INSERT-EE-PROJECT-ID')"
      ],
      "execution_count": 2,
      "outputs": [
        {
          "output_type": "display_data",
          "data": {
            "text/plain": [
              "<IPython.core.display.HTML object>"
            ],
            "text/html": [
              "\n",
              "            <style>\n",
              "                .geemap-dark {\n",
              "                    --jp-widgets-color: white;\n",
              "                    --jp-widgets-label-color: white;\n",
              "                    --jp-ui-font-color1: white;\n",
              "                    --jp-layout-color2: #454545;\n",
              "                    background-color: #383838;\n",
              "                }\n",
              "\n",
              "                .geemap-dark .jupyter-button {\n",
              "                    --jp-layout-color3: #383838;\n",
              "                }\n",
              "\n",
              "                .geemap-colab {\n",
              "                    background-color: var(--colab-primary-surface-color, white);\n",
              "                }\n",
              "\n",
              "                .geemap-colab .jupyter-button {\n",
              "                    --jp-layout-color3: var(--colab-primary-surface-color, white);\n",
              "                }\n",
              "            </style>\n",
              "            "
            ]
          },
          "metadata": {}
        }
      ]
    },
    {
      "cell_type": "code",
      "source": [
        "## Clone github repo:\n",
        "!git clone https://github.com/luislizcano/seagrass-mapping-tb.git"
      ],
      "metadata": {
        "id": "ei9eKaBwbgkY"
      },
      "execution_count": null,
      "outputs": []
    },
    {
      "cell_type": "code",
      "source": [
        "## Run this cell to mount your Google Drive\n",
        "import os, sys\n",
        "from google.colab import drive\n",
        "drive.mount('/content/drive')\n",
        "sys.path.insert(0,'/content/seagrass-mapping-tb')\n",
        "sys.path.append('/content/seagrass-mapping-tb/Preprocessing/')"
      ],
      "metadata": {
        "id": "kIUWOiIVbyIA",
        "colab": {
          "base_uri": "https://localhost:8080/",
          "height": 35
        },
        "outputId": "bb55d272-ad36-44f0-c469-3c5402dfe636"
      },
      "execution_count": 4,
      "outputs": [
        {
          "output_type": "display_data",
          "data": {
            "text/plain": [
              "<IPython.core.display.HTML object>"
            ],
            "text/html": [
              "\n",
              "            <style>\n",
              "                .geemap-dark {\n",
              "                    --jp-widgets-color: white;\n",
              "                    --jp-widgets-label-color: white;\n",
              "                    --jp-ui-font-color1: white;\n",
              "                    --jp-layout-color2: #454545;\n",
              "                    background-color: #383838;\n",
              "                }\n",
              "\n",
              "                .geemap-dark .jupyter-button {\n",
              "                    --jp-layout-color3: #383838;\n",
              "                }\n",
              "\n",
              "                .geemap-colab {\n",
              "                    background-color: var(--colab-primary-surface-color, white);\n",
              "                }\n",
              "\n",
              "                .geemap-colab .jupyter-button {\n",
              "                    --jp-layout-color3: var(--colab-primary-surface-color, white);\n",
              "                }\n",
              "            </style>\n",
              "            "
            ]
          },
          "metadata": {}
        },
        {
          "output_type": "stream",
          "name": "stdout",
          "text": [
            "Mounted at /content/drive\n"
          ]
        }
      ]
    },
    {
      "cell_type": "code",
      "source": [
        "## Verify you loaded the EE module correctly:\n",
        "import geemap\n",
        "import functions\n",
        "print('EE version: ',ee.__version__)"
      ],
      "metadata": {
        "colab": {
          "base_uri": "https://localhost:8080/",
          "height": 35
        },
        "id": "0mIHHpUOpiD9",
        "outputId": "95f105da-a7fa-4728-8acc-42dd47ab51ca"
      },
      "execution_count": 5,
      "outputs": [
        {
          "output_type": "display_data",
          "data": {
            "text/plain": [
              "<IPython.core.display.HTML object>"
            ],
            "text/html": [
              "\n",
              "            <style>\n",
              "                .geemap-dark {\n",
              "                    --jp-widgets-color: white;\n",
              "                    --jp-widgets-label-color: white;\n",
              "                    --jp-ui-font-color1: white;\n",
              "                    --jp-layout-color2: #454545;\n",
              "                    background-color: #383838;\n",
              "                }\n",
              "\n",
              "                .geemap-dark .jupyter-button {\n",
              "                    --jp-layout-color3: #383838;\n",
              "                }\n",
              "\n",
              "                .geemap-colab {\n",
              "                    background-color: var(--colab-primary-surface-color, white);\n",
              "                }\n",
              "\n",
              "                .geemap-colab .jupyter-button {\n",
              "                    --jp-layout-color3: var(--colab-primary-surface-color, white);\n",
              "                }\n",
              "            </style>\n",
              "            "
            ]
          },
          "metadata": {}
        },
        {
          "output_type": "stream",
          "name": "stdout",
          "text": [
            "EE version:  1.4.3\n"
          ]
        }
      ]
    },
    {
      "cell_type": "markdown",
      "source": [
        "### **Load image**\n"
      ],
      "metadata": {
        "id": "oBUiGudSocMd"
      }
    },
    {
      "cell_type": "code",
      "metadata": {
        "id": "HOieAPGS7v3e"
      },
      "source": [
        "## Define asset route to export image (to a folder or imageCollection)\n",
        "asset_id = 'INSERT-EE-ASSETID/'\n",
        "\n",
        "## Insert image id:\n",
        "image_id = '20230518T155901_20230518T160728_T17RLL'\n",
        "glinted_image = ee.Image('COPERNICUS/S2_SR_HARMONIZED/'+image_id)"
      ],
      "execution_count": null,
      "outputs": []
    },
    {
      "cell_type": "code",
      "source": [
        "## This is a predefined polygon with glinted pixels as example\n",
        "## The user can use geemap to create a different polygon\n",
        "sunglint = (ee.Geometry.Polygon(\n",
        "        [[[-82.5882342558702, 27.68003130872319],\n",
        "          [-82.5882342558702, 27.677903068330107],\n",
        "          [-82.58548767383895, 27.677903068330107],\n",
        "          [-82.58548767383895, 27.68003130872319]]], None, False))\n",
        "\n",
        "## Visualize image\n",
        "vis_params = {\n",
        "    'min': 0,\n",
        "    'max': 2000,\n",
        "    'bands': ['B4', 'B3', 'B2']\n",
        "}\n",
        "Map = geemap.Map()\n",
        "Map.centerObject(sunglint, 13)\n",
        "Map.addLayer(glinted_image, vis_params, 'Glinted Image')\n",
        "Map.addLayer(sunglint, {'color':'red'}, 'Glinted Area')\n",
        "Map"
      ],
      "metadata": {
        "id": "rrUaxkR27Fyp"
      },
      "execution_count": null,
      "outputs": []
    },
    {
      "cell_type": "markdown",
      "source": [
        "### **Preprocessing and deglinting**"
      ],
      "metadata": {
        "id": "Ux9jeNs14z83"
      }
    },
    {
      "cell_type": "code",
      "source": [
        "## Rescale reflectance\n",
        "img_rescale = functions.rescale(glinted_image)\n",
        "\n",
        "## Apply cloud mask -only if necessary- using reduced sensitivity (e.g. 20)\n",
        "img_cloud = functions.CloudScore6S(ee.ImageCollection.fromImages([img_rescale]), 20)\n",
        "\n",
        "## Apply deglint function\n",
        "deglinted = functions.deglint(img_cloud.first(), sunglint)\n",
        "\n",
        "## Visualize image\n",
        "vis_params_2 = {\n",
        "    'min': 0,\n",
        "    'max': 0.2,\n",
        "    'bands': ['B4', 'B3', 'B2']\n",
        "}\n",
        "Map = geemap.Map()\n",
        "Map.centerObject(deglinted, 11)\n",
        "Map.addLayer(deglinted, vis_params_2, 'Deglinted Image')\n",
        "Map"
      ],
      "metadata": {
        "id": "ZXwq7UY62KwV"
      },
      "execution_count": null,
      "outputs": []
    },
    {
      "cell_type": "markdown",
      "source": [
        "The deglinting process might be \"aggressive\" in some cases, producing noise and negative reflectance in B4"
      ],
      "metadata": {
        "id": "U6XbKaRh87QB"
      }
    },
    {
      "cell_type": "code",
      "metadata": {
        "id": "3alEOlxc70Ga"
      },
      "source": [
        "## Clean negative values using B4.\n",
        "deglintMask = deglinted.select('B4').gte(0)\n",
        "deglintCleaned = deglinted.updateMask(deglintMask)"
      ],
      "execution_count": null,
      "outputs": []
    },
    {
      "cell_type": "markdown",
      "metadata": {
        "id": "YgI9hnsW7mvw"
      },
      "source": [
        "### **Export image to Assets:**"
      ]
    },
    {
      "cell_type": "code",
      "source": [
        "task = ee.batch.Export.image.toAsset(\n",
        "  image= deglintCleaned,\n",
        "  description= 'Deglinted_'+id,\n",
        "  assetId= asset_id + id,\n",
        "  region= glinted_image.geometry(),\n",
        "  crs= 'EPSG:4326',\n",
        "  scale= 10,\n",
        "  maxPixels= 1e13\n",
        ")\n",
        "task.start()"
      ],
      "metadata": {
        "id": "nLHR95PHh5Q4"
      },
      "execution_count": 17,
      "outputs": []
    }
  ]
}