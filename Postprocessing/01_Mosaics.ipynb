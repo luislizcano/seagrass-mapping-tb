{
  "nbformat": 4,
  "nbformat_minor": 0,
  "metadata": {
    "kernelspec": {
      "display_name": "Python 3",
      "language": "python",
      "name": "python3"
    },
    "language_info": {
      "codemirror_mode": {
        "name": "ipython",
        "version": 3
      },
      "file_extension": ".py",
      "mimetype": "text/x-python",
      "name": "python",
      "nbconvert_exporter": "python",
      "pygments_lexer": "ipython3",
      "version": "3.9.2"
    },
    "colab": {
      "name": "01_Mosaics.ipynb",
      "provenance": [],
      "include_colab_link": true
    }
  },
  "cells": [
    {
      "cell_type": "markdown",
      "metadata": {
        "id": "view-in-github",
        "colab_type": "text"
      },
      "source": [
        "<a href=\"https://colab.research.google.com/github/luislizcano/seagrass-mapping-tb/blob/main/Postprocessing/01_Mosaics.ipynb\" target=\"_parent\"><img src=\"https://colab.research.google.com/assets/colab-badge.svg\" alt=\"Open In Colab\"/></a>"
      ]
    },
    {
      "cell_type": "markdown",
      "metadata": {
        "id": "Kkc23H-J7mvm"
      },
      "source": [
        "# **Annual seagrass mosaics**"
      ]
    },
    {
      "cell_type": "markdown",
      "metadata": {
        "id": "TZEfGRkG7mvp"
      },
      "source": [
        "Script to create annual seagrass mosaics by applying conditions to produce the best output possible."
      ]
    },
    {
      "cell_type": "markdown",
      "metadata": {
        "id": "StRlEBwi7mvq"
      },
      "source": [
        "Script by: Luis Lizcano-Sandoval (2021)<br/>\n",
        "College of Marine Sciences, University of South Florida<br/>\n",
        "luislizcanos@usf.edu / lsandoval@sig-gis.com<br/>\n",
        "Updated: 12/26/2024\n",
        "\n",
        "**Cite as:** *Lizcano-Sandoval, L.; Beck, M.W.; Scolaro, S.; Sherwood, E.T.; Muller-Karger, F. (2025) Cloud-Based Satellite Remote Sensing for Enhancing Seagrass Monitoring and Ecosystem Management (In preparation)*"
      ]
    },
    {
      "cell_type": "markdown",
      "source": [
        "### **Import packages**"
      ],
      "metadata": {
        "id": "oXOFOJTXBzP5"
      }
    },
    {
      "cell_type": "code",
      "metadata": {
        "id": "KxZOkVNh7vzc"
      },
      "source": [
        "## Authenticate your EE account\n",
        "import ee\n",
        "ee.Authenticate()\n",
        "ee.Initialize(project='earth-engine-252816')"
      ],
      "execution_count": null,
      "outputs": []
    },
    {
      "cell_type": "code",
      "source": [
        "## Clone github repo:\n",
        "!git clone https://github.com/luislizcano/seagrass-mapping-tb.git"
      ],
      "metadata": {
        "id": "ei9eKaBwbgkY"
      },
      "execution_count": null,
      "outputs": []
    },
    {
      "cell_type": "code",
      "source": [
        "## Run this cell to mount your Google Drive\n",
        "import os, sys\n",
        "from google.colab import drive\n",
        "drive.mount('/content/drive')\n",
        "sys.path.insert(0,'/content/seagrass-mapping-tb')\n",
        "sys.path.append('/content/seagrass-mapping-tb/Postprocessing/')"
      ],
      "metadata": {
        "id": "kIUWOiIVbyIA"
      },
      "execution_count": null,
      "outputs": []
    },
    {
      "cell_type": "code",
      "source": [
        "## Verify you loaded the EE module correctly:\n",
        "import geemap\n",
        "import functions\n",
        "print('EE version: ',ee.__version__)"
      ],
      "metadata": {
        "colab": {
          "base_uri": "https://localhost:8080/",
          "height": 35
        },
        "id": "0mIHHpUOpiD9",
        "outputId": "0141c64d-bc72-41d0-c3b1-3b86b7a41a2b"
      },
      "execution_count": null,
      "outputs": [
        {
          "output_type": "stream",
          "name": "stdout",
          "text": [
            "EE version:  1.4.3\n"
          ]
        }
      ]
    },
    {
      "cell_type": "markdown",
      "source": [
        "### **Load classified images**\n"
      ],
      "metadata": {
        "id": "oBUiGudSocMd"
      }
    },
    {
      "cell_type": "code",
      "source": [
        "## Define segment\n",
        "segmentCode = 'LTB'\n",
        "year = '2023'\n",
        "frequency = 10 ## It can't be higher than the number of images available\n",
        "smoother = 1 ## 0 or 1, use 0 to do not apply smoother to the mosaic"
      ],
      "metadata": {
        "id": "YTD3kHRfMH2B",
        "outputId": "ff4001ca-896c-4107-9fcc-a5b257ced327",
        "colab": {
          "base_uri": "https://localhost:8080/",
          "height": 17
        }
      },
      "execution_count": null,
      "outputs": [
        {
          "output_type": "display_data",
          "data": {
            "text/plain": [
              "<IPython.core.display.HTML object>"
            ],
            "text/html": [
              "\n",
              "            <style>\n",
              "                .geemap-dark {\n",
              "                    --jp-widgets-color: white;\n",
              "                    --jp-widgets-label-color: white;\n",
              "                    --jp-ui-font-color1: white;\n",
              "                    --jp-layout-color2: #454545;\n",
              "                    background-color: #383838;\n",
              "                }\n",
              "\n",
              "                .geemap-dark .jupyter-button {\n",
              "                    --jp-layout-color3: #383838;\n",
              "                }\n",
              "\n",
              "                .geemap-colab {\n",
              "                    background-color: var(--colab-primary-surface-color, white);\n",
              "                }\n",
              "\n",
              "                .geemap-colab .jupyter-button {\n",
              "                    --jp-layout-color3: var(--colab-primary-surface-color, white);\n",
              "                }\n",
              "            </style>\n",
              "            "
            ]
          },
          "metadata": {}
        }
      ]
    },
    {
      "cell_type": "code",
      "metadata": {
        "id": "HOieAPGS7v3e",
        "colab": {
          "base_uri": "https://localhost:8080/",
          "height": 35
        },
        "outputId": "a5682e60-2bd3-482e-dc37-ffc41eb4561f"
      },
      "source": [
        "## Import imageCollection containing classified images\n",
        "classified = ee.ImageCollection('users/lizcanosandoval/TB_seagrass_data/classified/TB'+year)\n",
        "\n",
        "## Filter collection\n",
        "segmentCollection = classified.filter(ee.Filter.eq('name_code', segmentCode))\\\n",
        "                              .filter(ee.Filter.eq('year', year))\n",
        "## Import TB segments\n",
        "segment = ee.FeatureCollection(\"users/lizcanosandoval/Seagrass/TBEP_Segments_Adapted\")\\\n",
        "                .filter(ee.Filter.eq('name_code', segmentCode))\n",
        "print('Images available: ',segmentCollection.size().getInfo())"
      ],
      "execution_count": null,
      "outputs": [
        {
          "output_type": "display_data",
          "data": {
            "text/plain": [
              "<IPython.core.display.HTML object>"
            ],
            "text/html": [
              "\n",
              "            <style>\n",
              "                .geemap-dark {\n",
              "                    --jp-widgets-color: white;\n",
              "                    --jp-widgets-label-color: white;\n",
              "                    --jp-ui-font-color1: white;\n",
              "                    --jp-layout-color2: #454545;\n",
              "                    background-color: #383838;\n",
              "                }\n",
              "\n",
              "                .geemap-dark .jupyter-button {\n",
              "                    --jp-layout-color3: #383838;\n",
              "                }\n",
              "\n",
              "                .geemap-colab {\n",
              "                    background-color: var(--colab-primary-surface-color, white);\n",
              "                }\n",
              "\n",
              "                .geemap-colab .jupyter-button {\n",
              "                    --jp-layout-color3: var(--colab-primary-surface-color, white);\n",
              "                }\n",
              "            </style>\n",
              "            "
            ]
          },
          "metadata": {}
        },
        {
          "output_type": "stream",
          "name": "stdout",
          "text": [
            "Images available:  12\n"
          ]
        }
      ]
    },
    {
      "cell_type": "markdown",
      "source": [
        "### **Mosaicking**"
      ],
      "metadata": {
        "id": "Ux9jeNs14z83"
      }
    },
    {
      "cell_type": "code",
      "source": [
        "## Select seagrass pixels only\n",
        "## Output will have only seagrass pixels with value = 1\n",
        "maskCollection = segmentCollection.map(functions.seagrassMask)\n",
        "\n",
        "## Sum seagrass maps (mosaic)\n",
        "## Pixel values of the output are considered as frequency of seagrass presence\n",
        "imgSum = maskCollection.sum().clip(segment)\n",
        "\n",
        "## Apply smoother to stack of images\n",
        "if smoother == 1:\n",
        "  imgSum = imgSum.convolve(ee.Kernel.euclidean(**{\n",
        "      'radius':1,  # Edit to increase smoothing window\n",
        "      'units':'pixels',\n",
        "      'normalize':True}))\n",
        "\n",
        "## Generate final mosaic with frequency condition\n",
        "finalMosaic = functions.mosaic(imgSum, frequency)"
      ],
      "metadata": {
        "id": "ZXwq7UY62KwV"
      },
      "execution_count": null,
      "outputs": []
    },
    {
      "cell_type": "code",
      "source": [
        "## Visualize image\n",
        "values = imgSum.rename('b1').reduceRegion(**{\n",
        "    'reducer': ee.Reducer.minMax(),\n",
        "    'geometry': segment,\n",
        "    'scale': 10})\n",
        "vis_params = {\n",
        "    'min': values.get('b1_min').getInfo(),\n",
        "    'max': values.get('b1_max').getInfo(),\n",
        "    'palette': ['#fff0f0','#ffc8c8','#ff8989','#ff4444','#dd0000','#880000']\n",
        "}\n",
        "Map = geemap.Map()\n",
        "Map.centerObject(segment, 12)\n",
        "Map.addLayer(imgSum, vis_params, 'Seagrass frequency')\n",
        "Map.addLayer(finalMosaic, {'palette':'green'}, 'Final Mosaic')\n",
        "Map"
      ],
      "metadata": {
        "id": "TzWPoHKSgPtC"
      },
      "execution_count": null,
      "outputs": []
    },
    {
      "cell_type": "markdown",
      "source": [
        "### Calculate area (km2)"
      ],
      "metadata": {
        "id": "_FB3dUDokQk8"
      }
    },
    {
      "cell_type": "code",
      "source": [
        "area = getArea(finalMosaic.eq(1), segment)\n",
        "print('Seagrass Area (km2): ', area)"
      ],
      "metadata": {
        "id": "d2esAZ_lkPzX"
      },
      "execution_count": null,
      "outputs": []
    },
    {
      "cell_type": "markdown",
      "metadata": {
        "id": "YgI9hnsW7mvw"
      },
      "source": [
        "### **Export image to Assets:**\n",
        "\n",
        "Export to Drive if going to edit the mosaic using QGIS. If not, export to Assets if want to save it in your EE account."
      ]
    },
    {
      "cell_type": "code",
      "source": [
        "tileid = segmentCollection.first().get('tile_id').getInfo()\n",
        "fileName = tileid+'_'+year+'_'+segmentCode\n",
        "\n",
        "task = ee.batch.Export.image.toDrive(\n",
        "  image= finalMosaic.toInt32(),\n",
        "  description= fileName,\n",
        "  region= segment,\n",
        "  crs= 'EPSG:4326',\n",
        "  scale= 10,\n",
        "  maxPixels= 1e13,\n",
        "  fileFormat= 'GeoTIFF'\n",
        ")\n",
        "task.start()"
      ],
      "metadata": {
        "id": "nLHR95PHh5Q4"
      },
      "execution_count": null,
      "outputs": []
    }
  ]
}