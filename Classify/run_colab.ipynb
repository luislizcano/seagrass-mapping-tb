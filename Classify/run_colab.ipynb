{
  "nbformat": 4,
  "nbformat_minor": 0,
  "metadata": {
    "kernelspec": {
      "display_name": "Python 3",
      "language": "python",
      "name": "python3"
    },
    "language_info": {
      "codemirror_mode": {
        "name": "ipython",
        "version": 3
      },
      "file_extension": ".py",
      "mimetype": "text/x-python",
      "name": "python",
      "nbconvert_exporter": "python",
      "pygments_lexer": "ipython3",
      "version": "3.9.2"
    },
    "colab": {
      "name": "run_seagrass_classification_colab.ipynb",
      "provenance": [],
      "include_colab_link": true
    }
  },
  "cells": [
    {
      "cell_type": "markdown",
      "metadata": {
        "id": "view-in-github",
        "colab_type": "text"
      },
      "source": [
        "<a href=\"https://colab.research.google.com/github/luislizcano/seagrass-mapping-tb/blob/main/Classify/run_colab.ipynb\" target=\"_parent\"><img src=\"https://colab.research.google.com/assets/colab-badge.svg\" alt=\"Open In Colab\"/></a>"
      ]
    },
    {
      "cell_type": "markdown",
      "metadata": {
        "id": "Kkc23H-J7mvm"
      },
      "source": [
        "# Semi-Automated Seagrass Classification Using Earth Engine Python API"
      ]
    },
    {
      "cell_type": "markdown",
      "metadata": {
        "id": "TZEfGRkG7mvp"
      },
      "source": [
        "This script classify seagrass beds in selected BOA images using ground-data to train the Support Vector Machine classifier. The outputs can be exported to EE Assets. All the training and validation matrices and accuracies can be saved as an Excel file in your (Google Drive) working directory.<br/>\n"
      ]
    },
    {
      "cell_type": "markdown",
      "metadata": {
        "id": "StRlEBwi7mvq"
      },
      "source": [
        "Script by: Luis Lizcano-Sandoval (Modified from [Lizcano-Sandoval et al. 2022](https://linkinghub.elsevier.com/retrieve/pii/S0272771422003924))<br/>\n",
        "College of Marine Sciences, University of South Florida<br/>\n",
        "luislizcanos@usf.edu / lsandoval@sig-gis.com<br/>\n",
        "Updated: 12/26/2024\n",
        "\n",
        "**Cite as:** *Lizcano-Sandoval, L.; Beck, M.W.; Scolaro, S.; Sherwood, E.T.; Muller-Karger, F. (2025) Cloud-Based Satellite Remote Sensing for Enhancing Seagrass Monitoring and Ecosystem Management (In preparation)*"
      ]
    },
    {
      "cell_type": "markdown",
      "metadata": {
        "id": "YtoTq1yw7mvr"
      },
      "source": [
        "<font size=\"4\">**Workflow:**</font>"
      ]
    },
    {
      "cell_type": "markdown",
      "metadata": {
        "id": "UvH1rPqO7mvr"
      },
      "source": [
        "1. Import required images, collections, data, etc.\n",
        "2. Mask clouds and land\n",
        "3. Apply Depth-Invariant Index (generates band-ratios B2B3)\n",
        "4. Sample bands: B1, B2, B3, B4, B/G\n",
        "5. Train models and classify (SVM)\n",
        "6. Get confusion matrices and accuracies\n",
        "7. Export classification images to EE Assets (.tiff)\n",
        "8. Save matrices in GDrive (.xlxs)"
      ]
    },
    {
      "cell_type": "markdown",
      "source": [
        "### **Import packages**"
      ],
      "metadata": {
        "id": "NU3VL6jjq_jp"
      }
    },
    {
      "cell_type": "code",
      "metadata": {
        "id": "KxZOkVNh7vzc"
      },
      "source": [
        "## Authenticate your EE account\n",
        "import ee\n",
        "ee.Authenticate()\n",
        "ee.Initialize(project='INSERT-EE-PROJECT-ID')"
      ],
      "execution_count": null,
      "outputs": []
    },
    {
      "cell_type": "code",
      "metadata": {
        "id": "3alEOlxc70Ga"
      },
      "source": [
        "## Clone github repo:\n",
        "!git clone https://github.com/luislizcano/seagrass-mapping-tb.git\n",
        "\n",
        "## Install some libraries [may need to restart runtime after]:\n",
        "!pip install xlsxwriter"
      ],
      "execution_count": null,
      "outputs": []
    },
    {
      "cell_type": "code",
      "metadata": {
        "id": "iSypAzax7vs3"
      },
      "source": [
        "## Run this cell to mount your Google Drive\n",
        "import os, sys\n",
        "from google.colab import drive\n",
        "drive.mount('/content/drive')\n",
        "sys.path.insert(0,'/content/seagrass-mapping-tb')\n",
        "sys.path.append('/content/seagrass-mapping-tb/Preprocessing/')"
      ],
      "execution_count": null,
      "outputs": []
    },
    {
      "cell_type": "code",
      "metadata": {
        "id": "OEfRgGdg7mvt"
      },
      "source": [
        "## Verify you loaded the EE module correctly:\n",
        "from process import start_processing\n",
        "print('EE version: ',ee.__version__)"
      ],
      "execution_count": null,
      "outputs": []
    },
    {
      "cell_type": "markdown",
      "metadata": {
        "id": "DHQKbp-C7mvv"
      },
      "source": [
        "### **Settings:**"
      ]
    },
    {
      "cell_type": "code",
      "metadata": {
        "id": "gcUX9hBr7mvv"
      },
      "source": [
        "#### Define the source of your image, if from your EE Assets or EE Collections:\n",
        "# imageSource = 'assets'  ## Read BOA imagery saved in EE Assets (Keeping original file name/id)\n",
        "imageSource = 'ee'      ## Read BOA imagery from EE Collections\n",
        "\n",
        "#### Define the type of satellite imagery:\n",
        "satellite = 'Sentinel2'\n",
        "\n",
        "#### Settings for running script:\n",
        "## Classifications grouped by years:\n",
        "year = '2023'\n",
        "## Unique code names\n",
        "segmentCode = 'OTB'\n",
        "## Name of folder with BOA images in assets (Ignore if imageSource = ee). It can be organized per years:\n",
        "boaFolder = 'INSERT-ASSETID-BOA-IMAGES/'+year+'/'\n",
        "## Name of EE folder to save the final output - must create it manually if not exist yet. Can be named \"00_RawClassification\":\n",
        "exportFolder = 'INSERT-ASSETID-EXPORT/'+'00_RawClassification/'\n",
        "## Smooth classified pixels or not? options: '_smooth_' or '_raw_':\n",
        "smoothStr = '_raw_' ## recommend to use 'raw' and smooth the classified images in the mosaicking step (postprocessing) \n",
        "\n",
        "## More metadata for saving image properties:\n",
        "segmentName = 'Old Tampa Bay' ## Segment name -used as metadata only\n",
        "regionCountry = 'USA'\n",
        "state = 'Florida'"
      ],
      "execution_count": null,
      "outputs": []
    },
    {
      "cell_type": "markdown",
      "metadata": {
        "id": "bUZ-UcKK7mvu"
      },
      "source": [
        "### **Insert list of image IDs:**"
      ]
    },
    {
      "cell_type": "code",
      "metadata": {
        "id": "WB6mRF9s7mvv"
      },
      "source": [
        "## Paste image ids.\n",
        "## Sentinel 2\n",
        "imageList = [\n",
        "'20231219T160659_20231219T160915_T17RLL',\n",
        "'20231129T160619_20231129T161314_T17RLL'\n",
        "]"
      ],
      "execution_count": null,
      "outputs": []
    },
    {
      "cell_type": "markdown",
      "metadata": {
        "id": "uiKEreDYN3FZ"
      },
      "source": [
        "### **Import data:**"
      ]
    },
    {
      "cell_type": "code",
      "metadata": {
        "id": "fYJyy1YfN0z6"
      },
      "source": [
        "#########################    IMPORT DATA    #########################\n",
        "\n",
        "# Sandy areas\n",
        "sandPoly = ee.FeatureCollection(\"users/lizcanosandoval/TB_seagrass_data/shp/Sand\")\n",
        "print('Sand areas loaded:', sandPoly.get('system:id').getInfo())\n",
        "\n",
        "# Ground-Points\n",
        "groundPoints = ee.FeatureCollection('users/lizcanosandoval/TB_seagrass_data/gtp/' + year)\n",
        "print('Ground-points loaded:', groundPoints.get('system:id').getInfo())\n",
        "\n",
        "## Landmask\n",
        "land = ee.Image(\"users/lizcanosandoval/TB_seagrass_data/Landmask\") ##Created from NDWI using Sentinel-2 imagery\n",
        "print('Land mask loaded:', land.get('system:id').getInfo())\n",
        "\n",
        "## TB segments:\n",
        "segments = ee.FeatureCollection(\"users/lizcanosandoval/TB_seagrass_data/shp/TBEP_Segments_Adapted\")\n",
        "print('Regions loaded:', segments.get('system:id').getInfo())\n",
        "\n",
        "print('*** Collections loaded correctly! ***')"
      ],
      "execution_count": null,
      "outputs": []
    },
    {
      "cell_type": "markdown",
      "metadata": {
        "id": "YgI9hnsW7mvw"
      },
      "source": [
        "### **Start classification loop:**"
      ]
    },
    {
      "cell_type": "code",
      "source": [
        "%%time\n",
        "start_processing(imageSource,satellite,boaFolder,exportFolder,segments,segmentName,segmentCode,\n",
        "                 state,regionCountry,imageList,smoothStr,sandPoly,groundPoints,land,1,1,0,0)"
      ],
      "metadata": {
        "id": "nLHR95PHh5Q4"
      },
      "execution_count": null,
      "outputs": []
    }
  ]
}
